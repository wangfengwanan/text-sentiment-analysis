{
 "cells": [
  {
   "cell_type": "code",
   "execution_count": 1,
   "metadata": {},
   "outputs": [],
   "source": [
    "import os\n",
    "import pandas as pd\n",
    "import re\n",
    "import jieba\n",
    "\n",
    "# input files\n",
    "train_file = './senta_data/new_train.tsv'\n",
    "val_file = './senta_data/new_dev.tsv'\n",
    "test_file = './senta_data/new_test.tsv'\n",
    "\n",
    "# output files\n",
    "seg_train_file = './senta_data/train.seg.txt'\n",
    "seg_val_file = './senta_data/val.seg.txt'\n",
    "seg_test_file = './senta_data/test.seg.txt'\n",
    "\n",
    "vocab_file = './senta_data/vocab.txt'\n",
    "category_file = './senta_data/category.txt'"
   ]
  },
  {
   "cell_type": "code",
   "execution_count": 2,
   "metadata": {},
   "outputs": [],
   "source": [
    "def generate_seg_file(input_file, output_seg_file):\n",
    "    \"\"\"Segment the sentences in each line in input_file\"\"\"\n",
    "    df = pd.read_csv(input_file, sep='\\t')\n",
    "    df = df.dropna()\n",
    "    with open(output_seg_file, 'w', encoding='utf-8') as f:\n",
    "        df['text_a'] = df['text_a'].apply(lambda x:x.lower())\n",
    "        df['text_a'] = df['text_a'].apply(lambda x:x.split(' '))\n",
    "        word_iters = df['text_a'].values\n",
    "        labels = df['label'].values\n",
    "        i = 0\n",
    "        for word_iter in word_iters:\n",
    "            word_content = ''\n",
    "            for word in word_iter:\n",
    "                word = word.strip(' ')\n",
    "                if word != '':\n",
    "                    word_content += word + ' '\n",
    "            out_line = '%s\\t%s\\n' % (labels[i], word_content.strip(' '))\n",
    "            f.write(out_line)\n",
    "            i += 1   \n",
    "\n",
    "generate_seg_file(train_file, seg_train_file)\n",
    "generate_seg_file(train_file, seg_val_file)\n",
    "generate_seg_file(test_file, seg_test_file)"
   ]
  },
  {
   "cell_type": "code",
   "execution_count": 3,
   "metadata": {},
   "outputs": [],
   "source": [
    "def generate_vocab_file(input_seg_file, output_vocab_file):\n",
    "    with open(input_seg_file, 'r', encoding='utf-8') as f:\n",
    "        lines = f.readlines()\n",
    "    word_dict = {}\n",
    "    for line in lines:\n",
    "        line = line.strip('\\n').split('\\t')\n",
    "        if len(line) < 2:\n",
    "            continue\n",
    "        label, content = line[0], line[1]\n",
    "        for word in content.split():\n",
    "            word_dict.setdefault(word, 0)\n",
    "            word_dict[word] += 1\n",
    "    sorted_word_dict = sorted(word_dict.items(), key = lambda d:d[1], reverse=True)\n",
    "    with open(output_vocab_file, 'w', encoding='utf-8') as f:\n",
    "        f.write('<UNK>\\t10000000\\n')\n",
    "        for item in sorted_word_dict:\n",
    "            f.write('%s\\t%d\\n' % (item[0], item[1]))\n",
    "\n",
    "generate_vocab_file(seg_train_file, vocab_file)"
   ]
  },
  {
   "cell_type": "code",
   "execution_count": 4,
   "metadata": {},
   "outputs": [],
   "source": [
    "def generate_category_dict(input_file, category_file):\n",
    "    category_list = ['0','1']\n",
    "    with open(category_file, 'w', encoding='utf-8') as f:\n",
    "        for category in category_list:\n",
    "            line = category + '\\n'\n",
    "            f.write(line)\n",
    "            \n",
    "generate_category_dict(train_file, category_file)"
   ]
  }
 ],
 "metadata": {
  "kernelspec": {
   "display_name": "Python 3",
   "language": "python",
   "name": "python3"
  },
  "language_info": {
   "codemirror_mode": {
    "name": "ipython",
    "version": 3
   },
   "file_extension": ".py",
   "mimetype": "text/x-python",
   "name": "python",
   "nbconvert_exporter": "python",
   "pygments_lexer": "ipython3",
   "version": "3.6.5"
  }
 },
 "nbformat": 4,
 "nbformat_minor": 2
}
